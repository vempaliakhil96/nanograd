{
 "cells": [
  {
   "cell_type": "markdown",
   "metadata": {},
   "source": [
    "# Neuron"
   ]
  },
  {
   "cell_type": "code",
   "execution_count": null,
   "metadata": {},
   "outputs": [],
   "source": [
    "# | default_exp core.neuron"
   ]
  },
  {
   "cell_type": "code",
   "execution_count": null,
   "metadata": {},
   "outputs": [],
   "source": [
    "#| export\n",
    "# from nanograd.core.value import Value\n",
    "import random, math\n",
    "from nanograd.core import Value, draw_dot\n",
    "from typing import List, Iterable, Union"
   ]
  },
  {
   "cell_type": "code",
   "execution_count": null,
   "metadata": {},
   "outputs": [],
   "source": [
    "#| export\n",
    "\n",
    "class Neuron:\n",
    "\n",
    "    def __init__(self, nin) -> None:\n",
    "        self.w = [Value(random.uniform(-1, 1), label=f\"w{i}\") for i in range(nin)]\n",
    "        self.b = Value(random.uniform(-1, 1), label=\"b\")\n",
    "    \n",
    "    def __call__(self, x):\n",
    "        assert len(x) == len(self.w)\n",
    "        x = [Value(_x) if not isinstance(_x, Value) else _x for _x in x]\n",
    "        return (sum([_x*_w for _x, _w in zip(x, self.w)]) + self.b).tanh()"
   ]
  },
  {
   "cell_type": "code",
   "execution_count": null,
   "metadata": {},
   "outputs": [],
   "source": [
    "#| export \n",
    "\n",
    "class Layer:\n",
    "\n",
    "    def __init__(self, nin, nout) -> None:\n",
    "        self.neurons = [Neuron(nin) for _ in range(nout)]\n",
    "\n",
    "    def __call__(self, x):\n",
    "        return [neuron(x) for neuron in self.neurons]"
   ]
  },
  {
   "cell_type": "code",
   "execution_count": null,
   "metadata": {},
   "outputs": [],
   "source": [
    "#| export \n",
    "\n",
    "class MLP:\n",
    "\n",
    "    def __init__(self, nin: int, nouts:List[int]) -> None:\n",
    "        sz = [nin] + nouts\n",
    "        self.layers = [Layer(sz[i], sz[i+1]) for i in range(nouts)]\n",
    "    \n",
    "    def __call__(self, x):\n",
    "        for layer in self.layers:\n",
    "            x = layer(x)\n",
    "        return x"
   ]
  }
 ],
 "metadata": {
  "kernelspec": {
   "display_name": "python3",
   "language": "python",
   "name": "python3"
  }
 },
 "nbformat": 4,
 "nbformat_minor": 2
}
