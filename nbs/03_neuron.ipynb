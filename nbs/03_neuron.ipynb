{
 "cells": [
  {
   "cell_type": "markdown",
   "metadata": {},
   "source": [
    "# Neuron"
   ]
  },
  {
   "cell_type": "code",
   "execution_count": null,
   "metadata": {},
   "outputs": [],
   "source": [
    "# | default_exp nn"
   ]
  },
  {
   "cell_type": "code",
   "execution_count": null,
   "metadata": {},
   "outputs": [],
   "source": [
    "#| export\n",
    "from nanograd.core import Value\n",
    "import random\n",
    "from typing import List"
   ]
  },
  {
   "cell_type": "code",
   "execution_count": null,
   "metadata": {},
   "outputs": [],
   "source": [
    "# | export\n",
    "\n",
    "\n",
    "class Neuron:\n",
    "    \"\"\"\n",
    "    A simple neuron which has trainable weights from each input and a bias term.\n",
    "    \"\"\"\n",
    "    def __init__(\n",
    "        self,\n",
    "        nin: int,  # number of inputs\n",
    "    ) -> None:\n",
    "        self.w = [Value(random.uniform(-1, 1), label=f\"w{i}\") for i in range(nin)]\n",
    "        self.b = Value(random.uniform(-1, 1), label=\"b\")\n",
    "\n",
    "    def __call__(self, x):\n",
    "        assert len(x) == len(self.w)\n",
    "        x = [Value(_x) if not isinstance(_x, Value) else _x for _x in x]\n",
    "        return (sum([_x * _w for _x, _w in zip(x, self.w)]) + self.b).tanh()"
   ]
  },
  {
   "cell_type": "code",
   "execution_count": null,
   "metadata": {},
   "outputs": [],
   "source": [
    "# | export\n",
    "\n",
    "\n",
    "class Layer:\n",
    "    \"\"\"\n",
    "    A layer of neurons. Each neuron has the same number of inputs. Number of neurons required depends on the number of outputs.\n",
    "    \"\"\"\n",
    "    def __init__(\n",
    "        self,\n",
    "        nin: int, # number of inputs\n",
    "        nout: int, # number of outputs\n",
    "    ) -> None:\n",
    "        self.neurons = [Neuron(nin) for _ in range(nout)]\n",
    "\n",
    "    def __call__(self, x):\n",
    "        return [neuron(x) for neuron in self.neurons]"
   ]
  },
  {
   "cell_type": "code",
   "execution_count": null,
   "metadata": {},
   "outputs": [],
   "source": [
    "# | export\n",
    "\n",
    "\n",
    "class MLP:\n",
    "    \"\"\"\n",
    "    A milti layer-preceptron. Each layer is fully connected to the next layer.\n",
    "    \"\"\"\n",
    "    def __init__(\n",
    "        self,\n",
    "        nin: int, # number of inputs\n",
    "        nouts: List[int], # list of number of outputs for each layer\n",
    "    ) -> None:\n",
    "        sz = [nin] + nouts\n",
    "        self.layers = [Layer(sz[i], sz[i + 1]) for i in range(nouts)]\n",
    "\n",
    "    def __call__(self, x):\n",
    "        for layer in self.layers:\n",
    "            x = layer(x)\n",
    "        return x"
   ]
  },
  {
   "cell_type": "code",
   "execution_count": null,
   "metadata": {},
   "outputs": [],
   "source": []
  }
 ],
 "metadata": {
  "kernelspec": {
   "display_name": "python3",
   "language": "python",
   "name": "python3"
  }
 },
 "nbformat": 4,
 "nbformat_minor": 2
}
